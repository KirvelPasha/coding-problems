{
  "nbformat": 4,
  "nbformat_minor": 0,
  "metadata": {
    "colab": {
      "name": "solution.ipynb",
      "provenance": [],
      "collapsed_sections": [],
      "toc_visible": true
    },
    "kernelspec": {
      "name": "python3",
      "display_name": "Python 3"
    }
  },
  "cells": [
    {
      "cell_type": "code",
      "metadata": {
        "id": "7rBNCQfycPgX",
        "colab_type": "code",
        "colab": {}
      },
      "source": [
        "def firstDuplicate(value):\n",
        "  uniqueValue = set()\n",
        "  for i in range(len(value)):\n",
        "    if value[i] in uniqueValue:\n",
        "      return i\n",
        "    else:\n",
        "      uniqueValue.add(value[i])\n",
        "  return -1"
      ],
      "execution_count": 0,
      "outputs": []
    },
    {
      "cell_type": "code",
      "metadata": {
        "id": "gFnGPEA_eKXD",
        "colab_type": "code",
        "colab": {
          "base_uri": "https://localhost:8080/",
          "height": 34
        },
        "outputId": "06b5c4e5-5230-429f-ac8c-fd44f39ace01"
      },
      "source": [
        "value =[1,2,3,4,3,1]\n",
        "print(firstDuplicate(value))"
      ],
      "execution_count": 4,
      "outputs": [
        {
          "output_type": "stream",
          "text": [
            "4\n"
          ],
          "name": "stdout"
        }
      ]
    }
  ]
}