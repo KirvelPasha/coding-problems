{
  "nbformat": 4,
  "nbformat_minor": 0,
  "metadata": {
    "colab": {
      "name": "solution.ipynb",
      "provenance": [],
      "collapsed_sections": [],
      "toc_visible": true,
      "authorship_tag": "ABX9TyMM7YTQ4Tiqk8IlnzzOqXIW",
      "include_colab_link": true
    },
    "kernelspec": {
      "name": "python3",
      "display_name": "Python 3"
    }
  },
  "cells": [
    {
      "cell_type": "markdown",
      "metadata": {
        "id": "view-in-github",
        "colab_type": "text"
      },
      "source": [
        "<a href=\"https://colab.research.google.com/github/KirvelPasha/coding-problems/blob/master/solution.ipynb\" target=\"_parent\"><img src=\"https://colab.research.google.com/assets/colab-badge.svg\" alt=\"Open In Colab\"/></a>"
      ]
    },
    {
      "cell_type": "code",
      "metadata": {
        "id": "7rBNCQfycPgX",
        "colab_type": "code",
        "colab": {}
      },
      "source": [
        "def firstDuplicate(value):\n",
        "  uniqueValue = set()\n",
        "  for i in range(len(value)):\n",
        "    if value[i] in uniqueValue:\n",
        "      return i\n",
        "    else:\n",
        "      uniqueValue.add(value[i])\n",
        "  return -1"
      ],
      "execution_count": 0,
      "outputs": []
    },
    {
      "cell_type": "code",
      "metadata": {
        "id": "gFnGPEA_eKXD",
        "colab_type": "code",
        "outputId": "b204f31b-e66d-4225-d11b-14c320a4049a",
        "colab": {
          "base_uri": "https://localhost:8080/",
          "height": 34
        }
      },
      "source": [
        "value =[1,2,3,4,3,1]\n",
        "print(firstDuplicate(value))"
      ],
      "execution_count": 0,
      "outputs": [
        {
          "output_type": "stream",
          "text": [
            "4\n"
          ],
          "name": "stdout"
        }
      ]
    },
    {
      "cell_type": "code",
      "metadata": {
        "id": "VzSaIMc-yYyC",
        "colab_type": "code",
        "colab": {}
      },
      "source": [
        "def arrayMaxSum(value):\n",
        "  maxSum = value[0]\n",
        "  currentSum = maxSum\n",
        "  for i in range(1, len(value)):\n",
        "    currentSum = max(value[i] + currentSum, value[i])\n",
        "    maxSum = max(currentSum, maxSum)\n",
        "  return maxSum"
      ],
      "execution_count": 0,
      "outputs": []
    },
    {
      "cell_type": "code",
      "metadata": {
        "id": "E6cLEHwoyZKD",
        "colab_type": "code",
        "outputId": "a6627ea6-0121-4660-fe93-9bddbb7fbc9f",
        "colab": {
          "base_uri": "https://localhost:8080/",
          "height": 34
        }
      },
      "source": [
        "value =[-2 , 2, 5, -11, 6]\n",
        "print(arrayMaxSum(value))"
      ],
      "execution_count": 5,
      "outputs": [
        {
          "output_type": "stream",
          "text": [
            "7\n"
          ],
          "name": "stdout"
        }
      ]
    },
    {
      "cell_type": "code",
      "metadata": {
        "id": "bIeOnmZyM_aj",
        "colab_type": "code",
        "outputId": "4e416565-b85e-4032-e320-38e0ab145dbc",
        "colab": {
          "base_uri": "https://localhost:8080/",
          "height": 34
        }
      },
      "source": [
        "value = [1, 2, 3, 4]\n",
        "output = []\n",
        "first = 1\n",
        "for i in range(1, len(value)):\n",
        "  first = first * value[i]\n",
        "for i in range(len(value)):\n",
        "  output.append(first // value[i])\n",
        "print(output)    "
      ],
      "execution_count": 0,
      "outputs": [
        {
          "output_type": "stream",
          "text": [
            "[24, 12, 8, 6]\n"
          ],
          "name": "stdout"
        }
      ]
    },
    {
      "cell_type": "code",
      "metadata": {
        "id": "CbRYs_jKOTeW",
        "colab_type": "code",
        "colab": {}
      },
      "source": [
        "def sumOfTwo(firstInput, secondInput, value):\n",
        "  differences = set()\n",
        "  for i in firstInput:\n",
        "    differences.add(value - i)\n",
        "  for i in secondInput:\n",
        "    if i in differences:\n",
        "      return True\n",
        "  return False        "
      ],
      "execution_count": 0,
      "outputs": []
    },
    {
      "cell_type": "code",
      "metadata": {
        "id": "fPAVS5QIyRUg",
        "colab_type": "code",
        "outputId": "2d17829f-c826-4d3c-8c6f-6effd9fe8d03",
        "colab": {
          "base_uri": "https://localhost:8080/",
          "height": 34
        }
      },
      "source": [
        "firstInput = [0, 1, -5, 100]\n",
        "secondInput = [-10, 30, -4, 400]\n",
        "value = 31\n",
        "print(sumOfTwo(firstInput, secondInput, value))"
      ],
      "execution_count": 0,
      "outputs": [
        {
          "output_type": "stream",
          "text": [
            "True\n"
          ],
          "name": "stdout"
        }
      ]
    },
    {
      "cell_type": "code",
      "metadata": {
        "id": "ZoKQwjCKri6Y",
        "colab_type": "code",
        "colab": {}
      },
      "source": [
        "def firstNonRepeatingCharacter(s):\n",
        "  char_count = {}\n",
        "  for i in range(len(s)):\n",
        "    c = s[i]\n",
        "    if c in char_count.keys():\n",
        "      char_count[c] = char_count.get(c) + 1\n",
        "    else:\n",
        "      char_count[c] = 1\n",
        "  for i in range(len(s)):\n",
        "     c = s[i]\n",
        "     if char_count.get(c) == 1:\n",
        "       return c\n",
        "  return \"_\"     \n"
      ],
      "execution_count": 0,
      "outputs": []
    },
    {
      "cell_type": "code",
      "metadata": {
        "id": "H0vMBT-3sNK1",
        "colab_type": "code",
        "colab": {
          "base_uri": "https://localhost:8080/",
          "height": 34
        },
        "outputId": "ec8e6449-5573-4751-8cc3-6f9edded13e7"
      },
      "source": [
        "s = \"aabcffee\"\n",
        "print(firstNonRepeatingCharacter(s))"
      ],
      "execution_count": 37,
      "outputs": [
        {
          "output_type": "stream",
          "text": [
            "b\n"
          ],
          "name": "stdout"
        }
      ]
    }
  ]
}