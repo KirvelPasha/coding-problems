{
  "nbformat": 4,
  "nbformat_minor": 0,
  "metadata": {
    "colab": {
      "name": "solution.ipynb",
      "provenance": [],
      "collapsed_sections": [],
      "toc_visible": true,
      "include_colab_link": true
    },
    "kernelspec": {
      "name": "python3",
      "display_name": "Python 3"
    }
  },
  "cells": [
    {
      "cell_type": "markdown",
      "metadata": {
        "id": "view-in-github",
        "colab_type": "text"
      },
      "source": [
        "<a href=\"https://colab.research.google.com/github/KirvelPasha/coding-problems/blob/master/solution.ipynb\" target=\"_parent\"><img src=\"https://colab.research.google.com/assets/colab-badge.svg\" alt=\"Open In Colab\"/></a>"
      ]
    },
    {
      "cell_type": "code",
      "metadata": {
        "id": "7rBNCQfycPgX",
        "colab_type": "code",
        "colab": {}
      },
      "source": [
        "def firstDuplicate(value):\n",
        "  uniqueValue = set()\n",
        "  for i in range(len(value)):\n",
        "    if value[i] in uniqueValue:\n",
        "      return i\n",
        "    else:\n",
        "      uniqueValue.add(value[i])\n",
        "  return -1"
      ],
      "execution_count": 0,
      "outputs": []
    },
    {
      "cell_type": "code",
      "metadata": {
        "id": "gFnGPEA_eKXD",
        "colab_type": "code",
        "outputId": "06b5c4e5-5230-429f-ac8c-fd44f39ace01",
        "colab": {
          "base_uri": "https://localhost:8080/",
          "height": 34
        }
      },
      "source": [
        "value =[1,2,3,4,3,1]\n",
        "print(firstDuplicate(value))"
      ],
      "execution_count": 0,
      "outputs": [
        {
          "output_type": "stream",
          "text": [
            "4\n"
          ],
          "name": "stdout"
        }
      ]
    },
    {
      "cell_type": "code",
      "metadata": {
        "id": "uevQlzLOv3XD",
        "colab_type": "code",
        "colab": {}
      },
      "source": [
        "def arrayMaxSum(value):\n",
        "  maxSum = value[0]\n",
        "  currentSum = maxSum\n",
        "  for i in range(1, len(value)):\n",
        "    currentSum = max(value[i] + currentSum, value[i])\n",
        "    maxSum = max(currentSum, maxSum)\n",
        "  return maxSum"
      ],
      "execution_count": 0,
      "outputs": []
    }
  ]
}