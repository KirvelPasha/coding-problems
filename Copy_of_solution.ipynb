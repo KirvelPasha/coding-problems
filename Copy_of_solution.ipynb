{
  "nbformat": 4,
  "nbformat_minor": 0,
  "metadata": {
    "colab": {
      "name": "Copy of solution.ipynb",
      "provenance": [],
      "collapsed_sections": [],
      "toc_visible": true,
      "include_colab_link": true
    },
    "kernelspec": {
      "name": "python3",
      "display_name": "Python 3"
    }
  },
  "cells": [
    {
      "cell_type": "markdown",
      "metadata": {
        "id": "view-in-github",
        "colab_type": "text"
      },
      "source": [
        "<a href=\"https://colab.research.google.com/github/KirvelPasha/coding-problems/blob/master/Copy_of_solution.ipynb\" target=\"_parent\"><img src=\"https://colab.research.google.com/assets/colab-badge.svg\" alt=\"Open In Colab\"/></a>"
      ]
    },
    {
      "cell_type": "code",
      "metadata": {
        "id": "7rBNCQfycPgX",
        "colab_type": "code",
        "colab": {}
      },
      "source": [
        "def firstDuplicate(value):\n",
        "  uniqueValue = set()\n",
        "  for i in range(len(value)):\n",
        "    if value[i] in uniqueValue:\n",
        "      return i\n",
        "    else:\n",
        "      uniqueValue.add(value[i])\n",
        "  return -1"
      ],
      "execution_count": 0,
      "outputs": []
    },
    {
      "cell_type": "code",
      "metadata": {
        "id": "gFnGPEA_eKXD",
        "colab_type": "code",
        "outputId": "2195dd4e-ea27-4b3c-f0c7-16ace23970d2",
        "colab": {
          "base_uri": "https://localhost:8080/",
          "height": 34
        }
      },
      "source": [
        "value =[2,2,3,1,4,1]\n",
        "print(firstDuplicate(value))"
      ],
      "execution_count": 0,
      "outputs": [
        {
          "output_type": "stream",
          "text": [
            "1\n"
          ],
          "name": "stdout"
        }
      ]
    },
    {
      "cell_type": "code",
      "metadata": {
        "id": "5uN2L6lK_tAB",
        "colab_type": "code",
        "colab": {}
      },
      "source": [
        "def arrayMaxSum(value):\n",
        "  maxSum = value[0]\n",
        "  currentSum = maxSum\n",
        "  for i in range(1, len(value)):\n",
        "    currentSum = max(value[i] + currentSum, value[i])\n",
        "    maxSum = max(currentSum, maxSum)\n",
        "  return maxSum    \n"
      ],
      "execution_count": 0,
      "outputs": []
    },
    {
      "cell_type": "code",
      "metadata": {
        "id": "XqUw3lpGAH0b",
        "colab_type": "code",
        "colab": {
          "base_uri": "https://localhost:8080/",
          "height": 34
        },
        "outputId": "dbeda251-20e7-456e-b50e-a436e17accf9"
      },
      "source": [
        "value =[-2,2,5,-11,6]\n",
        "print(arrayMaxSum(value))"
      ],
      "execution_count": 13,
      "outputs": [
        {
          "output_type": "stream",
          "text": [
            "7\n"
          ],
          "name": "stdout"
        }
      ]
    }
  ]
}